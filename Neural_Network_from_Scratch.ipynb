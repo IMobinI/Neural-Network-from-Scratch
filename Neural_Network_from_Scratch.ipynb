{
 "cells": [
  {
   "cell_type": "markdown",
   "id": "f74d370f",
   "metadata": {},
   "source": [
    "# *Import Libraries:*"
   ]
  },
  {
   "cell_type": "code",
   "execution_count": 1,
   "id": "1c03f99c",
   "metadata": {},
   "outputs": [],
   "source": [
    "import pandas as pd\n",
    "import seaborn as sns\n",
    "import numpy as np\n",
    "import matplotlib.pyplot as plt\n",
    "from sklearn.preprocessing import LabelEncoder, StandardScaler\n",
    "from sklearn.model_selection import train_test_split"
   ]
  },
  {
   "cell_type": "markdown",
   "id": "78532594",
   "metadata": {},
   "source": [
    "# *Preprocessing:*"
   ]
  },
  {
   "cell_type": "code",
   "execution_count": 2,
   "id": "62b828ee",
   "metadata": {},
   "outputs": [
    {
     "data": {
      "text/html": [
       "<div>\n",
       "<style scoped>\n",
       "    .dataframe tbody tr th:only-of-type {\n",
       "        vertical-align: middle;\n",
       "    }\n",
       "\n",
       "    .dataframe tbody tr th {\n",
       "        vertical-align: top;\n",
       "    }\n",
       "\n",
       "    .dataframe thead th {\n",
       "        text-align: right;\n",
       "    }\n",
       "</style>\n",
       "<table border=\"1\" class=\"dataframe\">\n",
       "  <thead>\n",
       "    <tr style=\"text-align: right;\">\n",
       "      <th></th>\n",
       "      <th>gender</th>\n",
       "      <th>NationalITy</th>\n",
       "      <th>PlaceofBirth</th>\n",
       "      <th>StageID</th>\n",
       "      <th>GradeID</th>\n",
       "      <th>SectionID</th>\n",
       "      <th>Topic</th>\n",
       "      <th>Semester</th>\n",
       "      <th>Relation</th>\n",
       "      <th>raisedhands</th>\n",
       "      <th>VisITedResources</th>\n",
       "      <th>AnnouncementsView</th>\n",
       "      <th>Discussion</th>\n",
       "      <th>ParentAnsweringSurvey</th>\n",
       "      <th>ParentschoolSatisfaction</th>\n",
       "      <th>StudentAbsenceDays</th>\n",
       "      <th>Class</th>\n",
       "    </tr>\n",
       "  </thead>\n",
       "  <tbody>\n",
       "    <tr>\n",
       "      <th>0</th>\n",
       "      <td>M</td>\n",
       "      <td>KW</td>\n",
       "      <td>KuwaIT</td>\n",
       "      <td>lowerlevel</td>\n",
       "      <td>G-04</td>\n",
       "      <td>A</td>\n",
       "      <td>IT</td>\n",
       "      <td>F</td>\n",
       "      <td>Father</td>\n",
       "      <td>15</td>\n",
       "      <td>16</td>\n",
       "      <td>2</td>\n",
       "      <td>20</td>\n",
       "      <td>Yes</td>\n",
       "      <td>Good</td>\n",
       "      <td>Under-7</td>\n",
       "      <td>M</td>\n",
       "    </tr>\n",
       "    <tr>\n",
       "      <th>1</th>\n",
       "      <td>M</td>\n",
       "      <td>KW</td>\n",
       "      <td>KuwaIT</td>\n",
       "      <td>lowerlevel</td>\n",
       "      <td>G-04</td>\n",
       "      <td>A</td>\n",
       "      <td>IT</td>\n",
       "      <td>F</td>\n",
       "      <td>Father</td>\n",
       "      <td>20</td>\n",
       "      <td>20</td>\n",
       "      <td>3</td>\n",
       "      <td>25</td>\n",
       "      <td>Yes</td>\n",
       "      <td>Good</td>\n",
       "      <td>Under-7</td>\n",
       "      <td>M</td>\n",
       "    </tr>\n",
       "    <tr>\n",
       "      <th>2</th>\n",
       "      <td>M</td>\n",
       "      <td>KW</td>\n",
       "      <td>KuwaIT</td>\n",
       "      <td>lowerlevel</td>\n",
       "      <td>G-04</td>\n",
       "      <td>A</td>\n",
       "      <td>IT</td>\n",
       "      <td>F</td>\n",
       "      <td>Father</td>\n",
       "      <td>10</td>\n",
       "      <td>7</td>\n",
       "      <td>0</td>\n",
       "      <td>30</td>\n",
       "      <td>No</td>\n",
       "      <td>Bad</td>\n",
       "      <td>Above-7</td>\n",
       "      <td>L</td>\n",
       "    </tr>\n",
       "    <tr>\n",
       "      <th>3</th>\n",
       "      <td>M</td>\n",
       "      <td>KW</td>\n",
       "      <td>KuwaIT</td>\n",
       "      <td>lowerlevel</td>\n",
       "      <td>G-04</td>\n",
       "      <td>A</td>\n",
       "      <td>IT</td>\n",
       "      <td>F</td>\n",
       "      <td>Father</td>\n",
       "      <td>30</td>\n",
       "      <td>25</td>\n",
       "      <td>5</td>\n",
       "      <td>35</td>\n",
       "      <td>No</td>\n",
       "      <td>Bad</td>\n",
       "      <td>Above-7</td>\n",
       "      <td>L</td>\n",
       "    </tr>\n",
       "    <tr>\n",
       "      <th>4</th>\n",
       "      <td>M</td>\n",
       "      <td>KW</td>\n",
       "      <td>KuwaIT</td>\n",
       "      <td>lowerlevel</td>\n",
       "      <td>G-04</td>\n",
       "      <td>A</td>\n",
       "      <td>IT</td>\n",
       "      <td>F</td>\n",
       "      <td>Father</td>\n",
       "      <td>40</td>\n",
       "      <td>50</td>\n",
       "      <td>12</td>\n",
       "      <td>50</td>\n",
       "      <td>No</td>\n",
       "      <td>Bad</td>\n",
       "      <td>Above-7</td>\n",
       "      <td>M</td>\n",
       "    </tr>\n",
       "  </tbody>\n",
       "</table>\n",
       "</div>"
      ],
      "text/plain": [
       "  gender NationalITy PlaceofBirth     StageID GradeID SectionID Topic  \\\n",
       "0      M          KW       KuwaIT  lowerlevel    G-04         A    IT   \n",
       "1      M          KW       KuwaIT  lowerlevel    G-04         A    IT   \n",
       "2      M          KW       KuwaIT  lowerlevel    G-04         A    IT   \n",
       "3      M          KW       KuwaIT  lowerlevel    G-04         A    IT   \n",
       "4      M          KW       KuwaIT  lowerlevel    G-04         A    IT   \n",
       "\n",
       "  Semester Relation  raisedhands  VisITedResources  AnnouncementsView  \\\n",
       "0        F   Father           15                16                  2   \n",
       "1        F   Father           20                20                  3   \n",
       "2        F   Father           10                 7                  0   \n",
       "3        F   Father           30                25                  5   \n",
       "4        F   Father           40                50                 12   \n",
       "\n",
       "   Discussion ParentAnsweringSurvey ParentschoolSatisfaction  \\\n",
       "0          20                   Yes                     Good   \n",
       "1          25                   Yes                     Good   \n",
       "2          30                    No                      Bad   \n",
       "3          35                    No                      Bad   \n",
       "4          50                    No                      Bad   \n",
       "\n",
       "  StudentAbsenceDays Class  \n",
       "0            Under-7     M  \n",
       "1            Under-7     M  \n",
       "2            Above-7     L  \n",
       "3            Above-7     L  \n",
       "4            Above-7     M  "
      ]
     },
     "execution_count": 2,
     "metadata": {},
     "output_type": "execute_result"
    }
   ],
   "source": [
    "df = pd.read_csv('Dataset.csv')\n",
    "df.head()"
   ]
  },
  {
   "cell_type": "code",
   "execution_count": 3,
   "id": "ae62acb5",
   "metadata": {},
   "outputs": [
    {
     "data": {
      "text/plain": [
       "(480, 17)"
      ]
     },
     "execution_count": 3,
     "metadata": {},
     "output_type": "execute_result"
    }
   ],
   "source": [
    "df.shape"
   ]
  },
  {
   "cell_type": "code",
   "execution_count": 4,
   "id": "9916dda8",
   "metadata": {},
   "outputs": [
    {
     "data": {
      "text/plain": [
       "array(['M', 'L', 'H'], dtype=object)"
      ]
     },
     "execution_count": 4,
     "metadata": {},
     "output_type": "execute_result"
    }
   ],
   "source": [
    "df['Class'].unique()"
   ]
  },
  {
   "cell_type": "code",
   "execution_count": 5,
   "id": "45819695",
   "metadata": {},
   "outputs": [
    {
     "data": {
      "text/html": [
       "<div>\n",
       "<style scoped>\n",
       "    .dataframe tbody tr th:only-of-type {\n",
       "        vertical-align: middle;\n",
       "    }\n",
       "\n",
       "    .dataframe tbody tr th {\n",
       "        vertical-align: top;\n",
       "    }\n",
       "\n",
       "    .dataframe thead th {\n",
       "        text-align: right;\n",
       "    }\n",
       "</style>\n",
       "<table border=\"1\" class=\"dataframe\">\n",
       "  <thead>\n",
       "    <tr style=\"text-align: right;\">\n",
       "      <th></th>\n",
       "      <th>gender</th>\n",
       "      <th>NationalITy</th>\n",
       "      <th>PlaceofBirth</th>\n",
       "      <th>StageID</th>\n",
       "      <th>GradeID</th>\n",
       "      <th>SectionID</th>\n",
       "      <th>Topic</th>\n",
       "      <th>Semester</th>\n",
       "      <th>Relation</th>\n",
       "      <th>raisedhands</th>\n",
       "      <th>VisITedResources</th>\n",
       "      <th>AnnouncementsView</th>\n",
       "      <th>Discussion</th>\n",
       "      <th>ParentAnsweringSurvey</th>\n",
       "      <th>ParentschoolSatisfaction</th>\n",
       "      <th>StudentAbsenceDays</th>\n",
       "      <th>Class</th>\n",
       "    </tr>\n",
       "  </thead>\n",
       "  <tbody>\n",
       "    <tr>\n",
       "      <th>0</th>\n",
       "      <td>M</td>\n",
       "      <td>KW</td>\n",
       "      <td>KuwaIT</td>\n",
       "      <td>lowerlevel</td>\n",
       "      <td>G-04</td>\n",
       "      <td>A</td>\n",
       "      <td>IT</td>\n",
       "      <td>F</td>\n",
       "      <td>Father</td>\n",
       "      <td>15</td>\n",
       "      <td>16</td>\n",
       "      <td>2</td>\n",
       "      <td>20</td>\n",
       "      <td>Yes</td>\n",
       "      <td>Good</td>\n",
       "      <td>Under-7</td>\n",
       "      <td>A</td>\n",
       "    </tr>\n",
       "    <tr>\n",
       "      <th>1</th>\n",
       "      <td>M</td>\n",
       "      <td>KW</td>\n",
       "      <td>KuwaIT</td>\n",
       "      <td>lowerlevel</td>\n",
       "      <td>G-04</td>\n",
       "      <td>A</td>\n",
       "      <td>IT</td>\n",
       "      <td>F</td>\n",
       "      <td>Father</td>\n",
       "      <td>20</td>\n",
       "      <td>20</td>\n",
       "      <td>3</td>\n",
       "      <td>25</td>\n",
       "      <td>Yes</td>\n",
       "      <td>Good</td>\n",
       "      <td>Under-7</td>\n",
       "      <td>A</td>\n",
       "    </tr>\n",
       "    <tr>\n",
       "      <th>2</th>\n",
       "      <td>M</td>\n",
       "      <td>KW</td>\n",
       "      <td>KuwaIT</td>\n",
       "      <td>lowerlevel</td>\n",
       "      <td>G-04</td>\n",
       "      <td>A</td>\n",
       "      <td>IT</td>\n",
       "      <td>F</td>\n",
       "      <td>Father</td>\n",
       "      <td>10</td>\n",
       "      <td>7</td>\n",
       "      <td>0</td>\n",
       "      <td>30</td>\n",
       "      <td>No</td>\n",
       "      <td>Bad</td>\n",
       "      <td>Above-7</td>\n",
       "      <td>L</td>\n",
       "    </tr>\n",
       "    <tr>\n",
       "      <th>3</th>\n",
       "      <td>M</td>\n",
       "      <td>KW</td>\n",
       "      <td>KuwaIT</td>\n",
       "      <td>lowerlevel</td>\n",
       "      <td>G-04</td>\n",
       "      <td>A</td>\n",
       "      <td>IT</td>\n",
       "      <td>F</td>\n",
       "      <td>Father</td>\n",
       "      <td>30</td>\n",
       "      <td>25</td>\n",
       "      <td>5</td>\n",
       "      <td>35</td>\n",
       "      <td>No</td>\n",
       "      <td>Bad</td>\n",
       "      <td>Above-7</td>\n",
       "      <td>L</td>\n",
       "    </tr>\n",
       "    <tr>\n",
       "      <th>4</th>\n",
       "      <td>M</td>\n",
       "      <td>KW</td>\n",
       "      <td>KuwaIT</td>\n",
       "      <td>lowerlevel</td>\n",
       "      <td>G-04</td>\n",
       "      <td>A</td>\n",
       "      <td>IT</td>\n",
       "      <td>F</td>\n",
       "      <td>Father</td>\n",
       "      <td>40</td>\n",
       "      <td>50</td>\n",
       "      <td>12</td>\n",
       "      <td>50</td>\n",
       "      <td>No</td>\n",
       "      <td>Bad</td>\n",
       "      <td>Above-7</td>\n",
       "      <td>A</td>\n",
       "    </tr>\n",
       "  </tbody>\n",
       "</table>\n",
       "</div>"
      ],
      "text/plain": [
       "  gender NationalITy PlaceofBirth     StageID GradeID SectionID Topic  \\\n",
       "0      M          KW       KuwaIT  lowerlevel    G-04         A    IT   \n",
       "1      M          KW       KuwaIT  lowerlevel    G-04         A    IT   \n",
       "2      M          KW       KuwaIT  lowerlevel    G-04         A    IT   \n",
       "3      M          KW       KuwaIT  lowerlevel    G-04         A    IT   \n",
       "4      M          KW       KuwaIT  lowerlevel    G-04         A    IT   \n",
       "\n",
       "  Semester Relation  raisedhands  VisITedResources  AnnouncementsView  \\\n",
       "0        F   Father           15                16                  2   \n",
       "1        F   Father           20                20                  3   \n",
       "2        F   Father           10                 7                  0   \n",
       "3        F   Father           30                25                  5   \n",
       "4        F   Father           40                50                 12   \n",
       "\n",
       "   Discussion ParentAnsweringSurvey ParentschoolSatisfaction  \\\n",
       "0          20                   Yes                     Good   \n",
       "1          25                   Yes                     Good   \n",
       "2          30                    No                      Bad   \n",
       "3          35                    No                      Bad   \n",
       "4          50                    No                      Bad   \n",
       "\n",
       "  StudentAbsenceDays Class  \n",
       "0            Under-7     A  \n",
       "1            Under-7     A  \n",
       "2            Above-7     L  \n",
       "3            Above-7     L  \n",
       "4            Above-7     A  "
      ]
     },
     "execution_count": 5,
     "metadata": {},
     "output_type": "execute_result"
    }
   ],
   "source": [
    "# convert 'Class' into binary classification\n",
    "df['Class'] = df['Class'].replace(['H', 'M'], 'A') # accept\n",
    "df.head()"
   ]
  },
  {
   "cell_type": "code",
   "execution_count": 6,
   "id": "8772325d",
   "metadata": {},
   "outputs": [
    {
     "data": {
      "text/plain": [
       "gender                      object\n",
       "NationalITy                 object\n",
       "PlaceofBirth                object\n",
       "StageID                     object\n",
       "GradeID                     object\n",
       "SectionID                   object\n",
       "Topic                       object\n",
       "Semester                    object\n",
       "Relation                    object\n",
       "raisedhands                  int64\n",
       "VisITedResources             int64\n",
       "AnnouncementsView            int64\n",
       "Discussion                   int64\n",
       "ParentAnsweringSurvey       object\n",
       "ParentschoolSatisfaction    object\n",
       "StudentAbsenceDays          object\n",
       "Class                       object\n",
       "dtype: object"
      ]
     },
     "execution_count": 6,
     "metadata": {},
     "output_type": "execute_result"
    }
   ],
   "source": [
    "df.dtypes"
   ]
  },
  {
   "cell_type": "code",
   "execution_count": 7,
   "id": "60e26163",
   "metadata": {},
   "outputs": [
    {
     "data": {
      "text/plain": [
       "Index(['gender', 'NationalITy', 'PlaceofBirth', 'StageID', 'GradeID',\n",
       "       'SectionID', 'Topic', 'Semester', 'Relation', 'ParentAnsweringSurvey',\n",
       "       'ParentschoolSatisfaction', 'StudentAbsenceDays', 'Class'],\n",
       "      dtype='object')"
      ]
     },
     "execution_count": 7,
     "metadata": {},
     "output_type": "execute_result"
    }
   ],
   "source": [
    "categorical_attr = df.columns[df.dtypes == 'object']\n",
    "categorical_attr"
   ]
  },
  {
   "cell_type": "code",
   "execution_count": 8,
   "id": "b7de4176",
   "metadata": {},
   "outputs": [
    {
     "data": {
      "text/html": [
       "<div>\n",
       "<style scoped>\n",
       "    .dataframe tbody tr th:only-of-type {\n",
       "        vertical-align: middle;\n",
       "    }\n",
       "\n",
       "    .dataframe tbody tr th {\n",
       "        vertical-align: top;\n",
       "    }\n",
       "\n",
       "    .dataframe thead th {\n",
       "        text-align: right;\n",
       "    }\n",
       "</style>\n",
       "<table border=\"1\" class=\"dataframe\">\n",
       "  <thead>\n",
       "    <tr style=\"text-align: right;\">\n",
       "      <th></th>\n",
       "      <th>gender</th>\n",
       "      <th>NationalITy</th>\n",
       "      <th>PlaceofBirth</th>\n",
       "      <th>StageID</th>\n",
       "      <th>GradeID</th>\n",
       "      <th>SectionID</th>\n",
       "      <th>Topic</th>\n",
       "      <th>Semester</th>\n",
       "      <th>Relation</th>\n",
       "      <th>raisedhands</th>\n",
       "      <th>VisITedResources</th>\n",
       "      <th>AnnouncementsView</th>\n",
       "      <th>Discussion</th>\n",
       "      <th>ParentAnsweringSurvey</th>\n",
       "      <th>ParentschoolSatisfaction</th>\n",
       "      <th>StudentAbsenceDays</th>\n",
       "      <th>Class</th>\n",
       "    </tr>\n",
       "  </thead>\n",
       "  <tbody>\n",
       "    <tr>\n",
       "      <th>0</th>\n",
       "      <td>1</td>\n",
       "      <td>4</td>\n",
       "      <td>4</td>\n",
       "      <td>2</td>\n",
       "      <td>1</td>\n",
       "      <td>0</td>\n",
       "      <td>7</td>\n",
       "      <td>0</td>\n",
       "      <td>0</td>\n",
       "      <td>15</td>\n",
       "      <td>16</td>\n",
       "      <td>2</td>\n",
       "      <td>20</td>\n",
       "      <td>1</td>\n",
       "      <td>1</td>\n",
       "      <td>1</td>\n",
       "      <td>0</td>\n",
       "    </tr>\n",
       "    <tr>\n",
       "      <th>1</th>\n",
       "      <td>1</td>\n",
       "      <td>4</td>\n",
       "      <td>4</td>\n",
       "      <td>2</td>\n",
       "      <td>1</td>\n",
       "      <td>0</td>\n",
       "      <td>7</td>\n",
       "      <td>0</td>\n",
       "      <td>0</td>\n",
       "      <td>20</td>\n",
       "      <td>20</td>\n",
       "      <td>3</td>\n",
       "      <td>25</td>\n",
       "      <td>1</td>\n",
       "      <td>1</td>\n",
       "      <td>1</td>\n",
       "      <td>0</td>\n",
       "    </tr>\n",
       "    <tr>\n",
       "      <th>2</th>\n",
       "      <td>1</td>\n",
       "      <td>4</td>\n",
       "      <td>4</td>\n",
       "      <td>2</td>\n",
       "      <td>1</td>\n",
       "      <td>0</td>\n",
       "      <td>7</td>\n",
       "      <td>0</td>\n",
       "      <td>0</td>\n",
       "      <td>10</td>\n",
       "      <td>7</td>\n",
       "      <td>0</td>\n",
       "      <td>30</td>\n",
       "      <td>0</td>\n",
       "      <td>0</td>\n",
       "      <td>0</td>\n",
       "      <td>1</td>\n",
       "    </tr>\n",
       "    <tr>\n",
       "      <th>3</th>\n",
       "      <td>1</td>\n",
       "      <td>4</td>\n",
       "      <td>4</td>\n",
       "      <td>2</td>\n",
       "      <td>1</td>\n",
       "      <td>0</td>\n",
       "      <td>7</td>\n",
       "      <td>0</td>\n",
       "      <td>0</td>\n",
       "      <td>30</td>\n",
       "      <td>25</td>\n",
       "      <td>5</td>\n",
       "      <td>35</td>\n",
       "      <td>0</td>\n",
       "      <td>0</td>\n",
       "      <td>0</td>\n",
       "      <td>1</td>\n",
       "    </tr>\n",
       "    <tr>\n",
       "      <th>4</th>\n",
       "      <td>1</td>\n",
       "      <td>4</td>\n",
       "      <td>4</td>\n",
       "      <td>2</td>\n",
       "      <td>1</td>\n",
       "      <td>0</td>\n",
       "      <td>7</td>\n",
       "      <td>0</td>\n",
       "      <td>0</td>\n",
       "      <td>40</td>\n",
       "      <td>50</td>\n",
       "      <td>12</td>\n",
       "      <td>50</td>\n",
       "      <td>0</td>\n",
       "      <td>0</td>\n",
       "      <td>0</td>\n",
       "      <td>0</td>\n",
       "    </tr>\n",
       "  </tbody>\n",
       "</table>\n",
       "</div>"
      ],
      "text/plain": [
       "   gender  NationalITy  PlaceofBirth  StageID  GradeID  SectionID  Topic  \\\n",
       "0       1            4             4        2        1          0      7   \n",
       "1       1            4             4        2        1          0      7   \n",
       "2       1            4             4        2        1          0      7   \n",
       "3       1            4             4        2        1          0      7   \n",
       "4       1            4             4        2        1          0      7   \n",
       "\n",
       "   Semester  Relation  raisedhands  VisITedResources  AnnouncementsView  \\\n",
       "0         0         0           15                16                  2   \n",
       "1         0         0           20                20                  3   \n",
       "2         0         0           10                 7                  0   \n",
       "3         0         0           30                25                  5   \n",
       "4         0         0           40                50                 12   \n",
       "\n",
       "   Discussion  ParentAnsweringSurvey  ParentschoolSatisfaction  \\\n",
       "0          20                      1                         1   \n",
       "1          25                      1                         1   \n",
       "2          30                      0                         0   \n",
       "3          35                      0                         0   \n",
       "4          50                      0                         0   \n",
       "\n",
       "   StudentAbsenceDays  Class  \n",
       "0                   1      0  \n",
       "1                   1      0  \n",
       "2                   0      1  \n",
       "3                   0      1  \n",
       "4                   0      0  "
      ]
     },
     "execution_count": 8,
     "metadata": {},
     "output_type": "execute_result"
    }
   ],
   "source": [
    "# Converting Categorical values to scaler values\n",
    "le = LabelEncoder()\n",
    "df[categorical_attr] = df[categorical_attr].apply(le.fit_transform, axis=0)\n",
    "df.head()"
   ]
  },
  {
   "cell_type": "code",
   "execution_count": 9,
   "id": "a3b860ae",
   "metadata": {},
   "outputs": [
    {
     "data": {
      "text/html": [
       "<div>\n",
       "<style scoped>\n",
       "    .dataframe tbody tr th:only-of-type {\n",
       "        vertical-align: middle;\n",
       "    }\n",
       "\n",
       "    .dataframe tbody tr th {\n",
       "        vertical-align: top;\n",
       "    }\n",
       "\n",
       "    .dataframe thead th {\n",
       "        text-align: right;\n",
       "    }\n",
       "</style>\n",
       "<table border=\"1\" class=\"dataframe\">\n",
       "  <thead>\n",
       "    <tr style=\"text-align: right;\">\n",
       "      <th></th>\n",
       "      <th>gender</th>\n",
       "      <th>NationalITy</th>\n",
       "      <th>PlaceofBirth</th>\n",
       "      <th>StageID</th>\n",
       "      <th>GradeID</th>\n",
       "      <th>SectionID</th>\n",
       "      <th>Topic</th>\n",
       "      <th>Semester</th>\n",
       "      <th>Relation</th>\n",
       "      <th>raisedhands</th>\n",
       "      <th>VisITedResources</th>\n",
       "      <th>AnnouncementsView</th>\n",
       "      <th>Discussion</th>\n",
       "      <th>ParentAnsweringSurvey</th>\n",
       "      <th>ParentschoolSatisfaction</th>\n",
       "      <th>StudentAbsenceDays</th>\n",
       "      <th>Class</th>\n",
       "    </tr>\n",
       "  </thead>\n",
       "  <tbody>\n",
       "    <tr>\n",
       "      <th>0</th>\n",
       "      <td>1</td>\n",
       "      <td>4</td>\n",
       "      <td>4</td>\n",
       "      <td>2</td>\n",
       "      <td>1</td>\n",
       "      <td>0</td>\n",
       "      <td>7</td>\n",
       "      <td>0</td>\n",
       "      <td>0</td>\n",
       "      <td>15</td>\n",
       "      <td>16</td>\n",
       "      <td>2</td>\n",
       "      <td>20</td>\n",
       "      <td>1</td>\n",
       "      <td>1</td>\n",
       "      <td>1</td>\n",
       "      <td>1</td>\n",
       "    </tr>\n",
       "    <tr>\n",
       "      <th>1</th>\n",
       "      <td>1</td>\n",
       "      <td>4</td>\n",
       "      <td>4</td>\n",
       "      <td>2</td>\n",
       "      <td>1</td>\n",
       "      <td>0</td>\n",
       "      <td>7</td>\n",
       "      <td>0</td>\n",
       "      <td>0</td>\n",
       "      <td>20</td>\n",
       "      <td>20</td>\n",
       "      <td>3</td>\n",
       "      <td>25</td>\n",
       "      <td>1</td>\n",
       "      <td>1</td>\n",
       "      <td>1</td>\n",
       "      <td>1</td>\n",
       "    </tr>\n",
       "    <tr>\n",
       "      <th>2</th>\n",
       "      <td>1</td>\n",
       "      <td>4</td>\n",
       "      <td>4</td>\n",
       "      <td>2</td>\n",
       "      <td>1</td>\n",
       "      <td>0</td>\n",
       "      <td>7</td>\n",
       "      <td>0</td>\n",
       "      <td>0</td>\n",
       "      <td>10</td>\n",
       "      <td>7</td>\n",
       "      <td>0</td>\n",
       "      <td>30</td>\n",
       "      <td>0</td>\n",
       "      <td>0</td>\n",
       "      <td>0</td>\n",
       "      <td>0</td>\n",
       "    </tr>\n",
       "    <tr>\n",
       "      <th>3</th>\n",
       "      <td>1</td>\n",
       "      <td>4</td>\n",
       "      <td>4</td>\n",
       "      <td>2</td>\n",
       "      <td>1</td>\n",
       "      <td>0</td>\n",
       "      <td>7</td>\n",
       "      <td>0</td>\n",
       "      <td>0</td>\n",
       "      <td>30</td>\n",
       "      <td>25</td>\n",
       "      <td>5</td>\n",
       "      <td>35</td>\n",
       "      <td>0</td>\n",
       "      <td>0</td>\n",
       "      <td>0</td>\n",
       "      <td>0</td>\n",
       "    </tr>\n",
       "    <tr>\n",
       "      <th>4</th>\n",
       "      <td>1</td>\n",
       "      <td>4</td>\n",
       "      <td>4</td>\n",
       "      <td>2</td>\n",
       "      <td>1</td>\n",
       "      <td>0</td>\n",
       "      <td>7</td>\n",
       "      <td>0</td>\n",
       "      <td>0</td>\n",
       "      <td>40</td>\n",
       "      <td>50</td>\n",
       "      <td>12</td>\n",
       "      <td>50</td>\n",
       "      <td>0</td>\n",
       "      <td>0</td>\n",
       "      <td>0</td>\n",
       "      <td>1</td>\n",
       "    </tr>\n",
       "  </tbody>\n",
       "</table>\n",
       "</div>"
      ],
      "text/plain": [
       "   gender  NationalITy  PlaceofBirth  StageID  GradeID  SectionID  Topic  \\\n",
       "0       1            4             4        2        1          0      7   \n",
       "1       1            4             4        2        1          0      7   \n",
       "2       1            4             4        2        1          0      7   \n",
       "3       1            4             4        2        1          0      7   \n",
       "4       1            4             4        2        1          0      7   \n",
       "\n",
       "   Semester  Relation  raisedhands  VisITedResources  AnnouncementsView  \\\n",
       "0         0         0           15                16                  2   \n",
       "1         0         0           20                20                  3   \n",
       "2         0         0           10                 7                  0   \n",
       "3         0         0           30                25                  5   \n",
       "4         0         0           40                50                 12   \n",
       "\n",
       "   Discussion  ParentAnsweringSurvey  ParentschoolSatisfaction  \\\n",
       "0          20                      1                         1   \n",
       "1          25                      1                         1   \n",
       "2          30                      0                         0   \n",
       "3          35                      0                         0   \n",
       "4          50                      0                         0   \n",
       "\n",
       "   StudentAbsenceDays  Class  \n",
       "0                   1      1  \n",
       "1                   1      1  \n",
       "2                   0      0  \n",
       "3                   0      0  \n",
       "4                   0      1  "
      ]
     },
     "execution_count": 9,
     "metadata": {},
     "output_type": "execute_result"
    }
   ],
   "source": [
    "# Modify the class column --> 1 means accept\n",
    "swap = {\"Class\": {1:0, 0:1}} \n",
    "df = df.replace(swap)\n",
    "df.head()"
   ]
  },
  {
   "cell_type": "code",
   "execution_count": 10,
   "id": "e071db70",
   "metadata": {},
   "outputs": [],
   "source": [
    "# X: Features, y: Classes\n",
    "X = np.array(df.iloc[:, :-1])\n",
    "y = np.array(df['Class'])"
   ]
  },
  {
   "cell_type": "code",
   "execution_count": 11,
   "id": "415a3ef3",
   "metadata": {},
   "outputs": [],
   "source": [
    "# Deviding Dataset to training and validation set\n",
    "X_train, X_val, y_train, y_val = train_test_split(X, y, test_size=0.2, random_state=12)"
   ]
  },
  {
   "cell_type": "code",
   "execution_count": 12,
   "id": "2a496a1a",
   "metadata": {
    "scrolled": true
   },
   "outputs": [
    {
     "name": "stdout",
     "output_type": "stream",
     "text": [
      "Number of dataset:  480\n",
      "Number of train set:  384\n",
      "Number of validation set:  96\n"
     ]
    }
   ],
   "source": [
    "print('Number of dataset: ', len(X))\n",
    "print('Number of train set: ', len(X_train))\n",
    "print('Number of validation set: ', len(X_val))"
   ]
  },
  {
   "cell_type": "code",
   "execution_count": 13,
   "id": "c3afdaf4",
   "metadata": {},
   "outputs": [],
   "source": [
    "y_train = y_train.reshape(y_train.shape[0], -1) # for making it (..., 1)\n",
    "y_val =  y_val.reshape(y_val.shape[0], -1)"
   ]
  },
  {
   "cell_type": "code",
   "execution_count": 14,
   "id": "303172bc",
   "metadata": {},
   "outputs": [
    {
     "name": "stdout",
     "output_type": "stream",
     "text": [
      "X_train:  (16, 384)\n",
      "y_train:  (1, 384)\n",
      "X_val:  (16, 96)\n",
      "y_val: (1, 96)\n"
     ]
    }
   ],
   "source": [
    "y_train = y_train.T\n",
    "y_val = y_val.T\n",
    "X_train = X_train.T\n",
    "X_val = X_val.T\n",
    "print(\"X_train: \",X_train.shape)\n",
    "print(\"y_train: \" ,y_train.shape)\n",
    "print(\"X_val: \" ,X_val.shape)\n",
    "print(\"y_val:\" ,y_val.shape)"
   ]
  },
  {
   "cell_type": "markdown",
   "id": "7fcf512a",
   "metadata": {},
   "source": [
    "# *Implementing Model:*"
   ]
  },
  {
   "cell_type": "markdown",
   "id": "466bbf18",
   "metadata": {},
   "source": [
    "### 1) Initialization"
   ]
  },
  {
   "cell_type": "code",
   "execution_count": 15,
   "id": "d5670b94",
   "metadata": {},
   "outputs": [],
   "source": [
    "# initialize parameters randomly\n",
    "# using Xavier initialization\n",
    "def initialize_parameters_random(layer_dims):\n",
    "    np.random.seed(1)\n",
    "    parameters = {}\n",
    "    for l in range(1, len(layer_dims)):\n",
    "        parameters['W' + str(l)] = np.random.randn(layer_dims[l], layer_dims[l-1]) * np.sqrt(2 / layer_dims[l-1])\n",
    "        parameters['b' + str(l)] = np.random.randn(layer_dims[l], 1) * np.sqrt(2 / layer_dims[l-1])\n",
    "        \n",
    "    return parameters"
   ]
  },
  {
   "cell_type": "code",
   "execution_count": 16,
   "id": "c563bbf0",
   "metadata": {},
   "outputs": [
    {
     "name": "stdout",
     "output_type": "stream",
     "text": [
      "{'W1': array([[ 1.32627244, -0.49949702, -0.43125043]]), 'b1': array([[-0.87607521]])}\n"
     ]
    }
   ],
   "source": [
    "params = initialize_parameters_random([3,1])\n",
    "\n",
    "print(params)"
   ]
  },
  {
   "cell_type": "code",
   "execution_count": 17,
   "id": "77318e49",
   "metadata": {},
   "outputs": [],
   "source": [
    "# initialize parameters with zero\n",
    "def initialize_parameters_with_zeros(layer_dims):\n",
    "    parameters = {}\n",
    "    for l in range(1, len(layer_dims)):\n",
    "        parameters['W' + str(l)] = np.zeros((layer_dims[l], layer_dims[l-1]))\n",
    "        parameters['b' + str(l)] = np.zeros((layer_dims[l], 1))\n",
    "        \n",
    "    return parameters"
   ]
  },
  {
   "cell_type": "code",
   "execution_count": 18,
   "id": "b07912a5",
   "metadata": {},
   "outputs": [
    {
     "name": "stdout",
     "output_type": "stream",
     "text": [
      "W2:  [[0. 0. 0. 0. 0.]\n",
      " [0. 0. 0. 0. 0.]]\n",
      "b2:  [[0.]\n",
      " [0.]]\n"
     ]
    }
   ],
   "source": [
    "params = initialize_parameters_with_zeros([3,5,2])\n",
    "\n",
    "print(\"W2: \", params[\"W2\"])\n",
    "print(\"b2: \", params[\"b2\"])"
   ]
  },
  {
   "cell_type": "markdown",
   "id": "b0401275",
   "metadata": {},
   "source": [
    "### 2) Forward Propagation"
   ]
  },
  {
   "cell_type": "code",
   "execution_count": 19,
   "id": "1fa36878",
   "metadata": {},
   "outputs": [],
   "source": [
    "# calculate Z\n",
    "def linear_forward(A, W, b):\n",
    "    Z = np.dot(W, A) + b\n",
    "    cache = (A, W, b)\n",
    "    return Z, cache"
   ]
  },
  {
   "cell_type": "code",
   "execution_count": 20,
   "id": "c2f98204",
   "metadata": {},
   "outputs": [],
   "source": [
    "# sigmoid function\n",
    "def sigmoid(Z):\n",
    "    A =  1 / (1 + np.exp(-Z))\n",
    "    activation_cache = Z\n",
    "    return A, activation_cache"
   ]
  },
  {
   "cell_type": "code",
   "execution_count": 21,
   "id": "0bdbd09a",
   "metadata": {},
   "outputs": [],
   "source": [
    "# relu function\n",
    "def relu(Z):\n",
    "    A = np.maximum(0, Z)\n",
    "    activation_cache = Z\n",
    "    return A, activation_cache"
   ]
  },
  {
   "cell_type": "code",
   "execution_count": 22,
   "id": "2ae5587d",
   "metadata": {},
   "outputs": [],
   "source": [
    "# calculate A\n",
    "def linear_activation_forward(A_prev, W, b, activation):\n",
    "    Z, linear_cache = linear_forward(A_prev, W, b)\n",
    "    \n",
    "    if activation == \"sigmoid\":\n",
    "        A, activation_cache = sigmoid(Z)\n",
    "    elif activation == \"relu\":\n",
    "        A, activation_cache = relu(Z)\n",
    "\n",
    "    cache = (linear_cache, activation_cache)\n",
    "    \n",
    "    return A, cache"
   ]
  },
  {
   "cell_type": "code",
   "execution_count": 23,
   "id": "6019ae9f",
   "metadata": {},
   "outputs": [],
   "source": [
    "# implement forward propagation\n",
    "def model_forward(X, parameters):\n",
    "    caches = []\n",
    "    A = X\n",
    "    L = len(parameters) // 2 # number of layers\n",
    "    \n",
    "    for l in range(1, L): # first L-1 layers with relu function\n",
    "        A_prev = A \n",
    "        A, cache = linear_activation_forward(A_prev, parameters['W' + str(l)], parameters['b' + str(l)], activation = \"relu\")\n",
    "        caches.append(cache)\n",
    "       \n",
    "    AL, cache = linear_activation_forward(A, parameters['W' + str(L)], parameters['b' + str(L)], activation = \"sigmoid\")\n",
    "    \n",
    "    caches.append(cache)\n",
    "   \n",
    "    return AL, caches"
   ]
  },
  {
   "cell_type": "code",
   "execution_count": 24,
   "id": "2ea0a26e",
   "metadata": {},
   "outputs": [],
   "source": [
    "# calculate loss and cost\n",
    "# cost: cross entropy cost\n",
    "def compute_cost(AL, Y):\n",
    "    m = Y.shape[1]\n",
    "    \n",
    "    # limit A to prevent divide by zero in log(AL) and log(1-AL)\n",
    "    AL = np.clip(AL, 0.00000000000001, 0.9999999999999)\n",
    "\n",
    "    loss = np.multiply(np.log(AL), Y) + np.multiply((1 - Y), np.log(1 - AL))\n",
    "    cost = -np.sum(loss) / m\n",
    "    \n",
    "    return cost"
   ]
  },
  {
   "cell_type": "code",
   "execution_count": 25,
   "id": "f3a73c28",
   "metadata": {},
   "outputs": [],
   "source": [
    "# calculate accuracy\n",
    "def compute_accuracy(AL, Y, threshold):\n",
    "    prediction = np.zeros((1, AL.shape[1]))\n",
    "    for i in range(AL.shape[1]):\n",
    "        prediction[0,i] = 1 if AL[0, i] > threshold else 0\n",
    "    \n",
    "    m = Y.shape[1]\n",
    "    accuracy = (1 - np.sum(np.absolute(prediction - Y)) / m) * 100\n",
    "    \n",
    "    return accuracy"
   ]
  },
  {
   "cell_type": "markdown",
   "id": "6738e17f",
   "metadata": {},
   "source": [
    "### 3) Backward Propagation"
   ]
  },
  {
   "cell_type": "code",
   "execution_count": 26,
   "id": "92c6db56",
   "metadata": {},
   "outputs": [],
   "source": [
    "# derivative of relu function\n",
    "def relu_backward(dA, cache_activation):\n",
    "    Z = cache_activation\n",
    "    g = np.greater(Z, 0.).astype(np.float32)\n",
    "    dZ = dA * g\n",
    "    return dZ"
   ]
  },
  {
   "cell_type": "code",
   "execution_count": 27,
   "id": "2d43fa3d",
   "metadata": {},
   "outputs": [],
   "source": [
    "# derivative of sigmoid function\n",
    "def sigmoid_backward(dA, cache_activation):\n",
    "    Z = cache_activation\n",
    "    s, _ = sigmoid(Z)\n",
    "    g = s * (1 - s)\n",
    "    dZ = dA * g\n",
    "    return dZ"
   ]
  },
  {
   "cell_type": "code",
   "execution_count": 28,
   "id": "50b1c4e6",
   "metadata": {},
   "outputs": [],
   "source": [
    "# calculate dA, dW, db\n",
    "def linear_backward(dZ, cache):\n",
    "    A_prev, W, b = cache\n",
    "    m = A_prev.shape[1]\n",
    "\n",
    "    dW = np.dot(dZ, A_prev.T) / m\n",
    "    db = np.sum(dZ, axis = 1, keepdims = True) / m\n",
    "    dA_prev = np.dot(W.T, dZ)\n",
    "    \n",
    "    return dA_prev, dW, db"
   ]
  },
  {
   "cell_type": "code",
   "execution_count": 29,
   "id": "4cf759c6",
   "metadata": {},
   "outputs": [],
   "source": [
    "# calculate dZ\n",
    "def linear_activation_backward(dA, cache, activation):\n",
    "    linear_cache, activation_cache = cache\n",
    "    \n",
    "    if activation == \"relu\":\n",
    "        dZ = relu_backward(dA, activation_cache)\n",
    "        \n",
    "    elif activation == \"sigmoid\":\n",
    "        dZ = sigmoid_backward(dA, activation_cache)\n",
    "    \n",
    "    dA_prev, dW, db = linear_backward(dZ, linear_cache)\n",
    "       \n",
    "    return dA_prev, dW, db"
   ]
  },
  {
   "cell_type": "code",
   "execution_count": 30,
   "id": "a66eb4e2",
   "metadata": {},
   "outputs": [],
   "source": [
    "# implement backward propagation\n",
    "def model_backward(AL, Y, caches):\n",
    "    grads = {}\n",
    "    L = len(caches) # the number of layersm = AL.shape[1]\n",
    "    Y = Y.reshape(AL.shape) # Y is the same shape as AL\n",
    "    \n",
    "    # Initializing the backpropagation\n",
    "    AL = np.clip(AL, 0.00000000000001, 0.9999999999999)\n",
    "    dAL = - (np.divide(Y, AL) - np.divide(1 - Y, 1 - AL))\n",
    "    \n",
    "    current_cache = caches[-1]\n",
    "    grads[\"dA\" + str(L-1)], grads[\"dW\" + str(L)], grads[\"db\" + str(L)] = linear_activation_backward(dAL, current_cache, 'sigmoid')\n",
    "    \n",
    "    for l in reversed(range(L-1)):\n",
    "        current_cache = caches[l]\n",
    "        grads[\"dA\" + str(l)], grads[\"dW\" + str(l + 1)], grads[\"db\" + str(l + 1)] = linear_activation_backward(grads[\"dA\" + str(l + 1)], current_cache, 'relu')\n",
    "        \n",
    "    return grads"
   ]
  },
  {
   "cell_type": "code",
   "execution_count": 31,
   "id": "bfa3d60a",
   "metadata": {},
   "outputs": [],
   "source": [
    "# Update Parameters\n",
    "def update_parameters(params, grads, learning_rate):\n",
    "    parameters = params.copy()\n",
    "    L = len(parameters) // 2 # number of layers\n",
    "\n",
    "    for l in range(L):\n",
    "        parameters[\"W\" + str(l + 1)] = parameters[\"W\" + str(l + 1)] - learning_rate * grads[\"dW\" + str(l + 1)]\n",
    "        parameters[\"b\" + str(l + 1)] = parameters[\"b\" + str(l + 1)] - learning_rate * grads[\"db\" + str(l + 1)]\n",
    "        \n",
    "    return parameters"
   ]
  },
  {
   "cell_type": "code",
   "execution_count": 32,
   "id": "682d8845",
   "metadata": {},
   "outputs": [],
   "source": [
    "# draw the plots\n",
    "def draw(accuracy, costs):\n",
    "    fig, axis = plt.subplots(1, 2, figsize=(15,6))\n",
    "    axis[0].set_title('Accuracy', fontsize = 20, fontweight = 'bold')\n",
    "    axis[0].plot(accuracy, color = 'darkblue')\n",
    "    axis[1].set_title('Cost', fontsize = 20, fontweight = 'bold')\n",
    "    axis[1].plot(costs, color = 'deeppink')\n",
    "    \n",
    "    print(\"\\n\\nMaximum Accuracy of Training set: {:.8f}\\nMinimum Loss of Trainig set: {:.8f}\\n\".format(np.max(accuracy), np.min(costs)))"
   ]
  },
  {
   "cell_type": "markdown",
   "id": "be0c54dd",
   "metadata": {},
   "source": [
    "### 4) Model Definition"
   ]
  },
  {
   "cell_type": "code",
   "execution_count": 33,
   "id": "247c7643",
   "metadata": {},
   "outputs": [],
   "source": [
    "def model(X, Y, layers_dims, learning_rate = 0.05, num_iterations = 10000, initial_value = \"Random\", threshold = 0.5, print_cost = False):\n",
    "    np.random.seed(1)\n",
    "    accuracy = []\n",
    "    costs = []\n",
    "    \n",
    "    # initialize parameters\n",
    "    if initial_value == \"Zero\":\n",
    "        parameters = initialize_parameters_with_zeros(layers_dims)\n",
    "    elif initial_value == \"Random\":\n",
    "        parameters = initialize_parameters_random(layers_dims)\n",
    "    \n",
    "    # gradient descent\n",
    "    for i in range(num_iterations):\n",
    "\n",
    "        # Forward propagation\n",
    "        AL, caches = model_forward(X, parameters)\n",
    "        \n",
    "        # Compute cost\n",
    "        cost = compute_cost(AL, Y)\n",
    "        \n",
    "        # Backward propagation\n",
    "        grads = model_backward(AL, Y, caches)\n",
    " \n",
    "        # Update parameters\n",
    "        parameters = update_parameters(parameters, grads, learning_rate)\n",
    "          \n",
    "        # Comupe accuracy\n",
    "        acc = compute_accuracy(AL, Y, threshold)\n",
    "        \n",
    "        # Print the cost every (num_iterations / 10) iterations\n",
    "        if i % 1000 == 0 or i == num_iterations - 1:\n",
    "            if print_cost:\n",
    "                print(\"Iteration {:4d}) \\t\\t Loss: {:.8f} \\t\\t Accuracy: {:.8f}\".format(i, cost, acc))\n",
    "        \n",
    "        # Store cost and accuracy\n",
    "        if i % 100 == 0:\n",
    "            costs.append(cost)\n",
    "            accuracy.append(acc)\n",
    "            \n",
    "    # draw plots       \n",
    "    if print_cost:\n",
    "        draw(accuracy, costs)\n",
    "            \n",
    "    return parameters"
   ]
  },
  {
   "cell_type": "code",
   "execution_count": 34,
   "id": "6ebe41a6",
   "metadata": {},
   "outputs": [],
   "source": [
    "# Checking the accuracy of the validation data\n",
    "def test_model(X, Y, parameters, threshold = 0.5):\n",
    "    params = parameters\n",
    "    AL, _ = model_forward(X, params)\n",
    "    cost = compute_cost(AL, Y)\n",
    "    accuracy = compute_accuracy(AL, Y, threshold)\n",
    "    \n",
    "    return cost, accuracy"
   ]
  },
  {
   "cell_type": "markdown",
   "id": "403ce01f",
   "metadata": {},
   "source": [
    "# *Training and Evaluating the models:*"
   ]
  },
  {
   "cell_type": "markdown",
   "id": "62c29008",
   "metadata": {},
   "source": [
    "## *2 Layer Model (No hidden layer)*\n",
    "\n",
    "LINEAR ~> SIGMOID"
   ]
  },
  {
   "cell_type": "code",
   "execution_count": 35,
   "id": "4e6c8a48",
   "metadata": {},
   "outputs": [
    {
     "name": "stdout",
     "output_type": "stream",
     "text": [
      "Iteration    0) \t\t Loss: 9.22892688 \t\t Accuracy: 43.75000000\n",
      "Iteration 1000) \t\t Loss: 5.74943117 \t\t Accuracy: 75.00000000\n",
      "Iteration 2000) \t\t Loss: 0.71363230 \t\t Accuracy: 89.32291667\n",
      "Iteration 3000) \t\t Loss: 5.72917253 \t\t Accuracy: 75.00000000\n",
      "Iteration 4000) \t\t Loss: 0.91786289 \t\t Accuracy: 85.41666667\n",
      "Iteration 5000) \t\t Loss: 0.84316346 \t\t Accuracy: 87.23958333\n",
      "Iteration 6000) \t\t Loss: 0.79270904 \t\t Accuracy: 88.54166667\n",
      "Iteration 7000) \t\t Loss: 0.61835576 \t\t Accuracy: 90.10416667\n",
      "Iteration 8000) \t\t Loss: 0.76896940 \t\t Accuracy: 89.32291667\n",
      "Iteration 9000) \t\t Loss: 0.79822289 \t\t Accuracy: 88.54166667\n",
      "Iteration 9999) \t\t Loss: 0.81425556 \t\t Accuracy: 88.80208333\n",
      "\n",
      "\n",
      "Maximum Accuracy of Training set: 91.92708333\n",
      "Minimum Loss of Trainig set: 0.42117784\n",
      "\n"
     ]
    },
    {
     "data": {
      "image/png": "[encoded data removed]",
      "text/plain": [
       "<Figure size 1080x432 with 2 Axes>"
      ]
     },
     "metadata": {
      "needs_background": "light"
     },
     "output_type": "display_data"
    }
   ],
   "source": [
    "# Random initilize\n",
    "layers_dims = [X_train.shape[0], 1]\n",
    "parameters = model(X_train, y_train, layers_dims, initial_value = \"Random\", print_cost = True)"
   ]
  },
  {
   "cell_type": "code",
   "execution_count": 36,
   "id": "b5fe4f78",
   "metadata": {},
   "outputs": [
    {
     "name": "stdout",
     "output_type": "stream",
     "text": [
      "Accuracy of Validation set: 88.54166667\n",
      "Cost of Validation set: 0.72420995\n"
     ]
    }
   ],
   "source": [
    "cost, accuracy = test_model(X_val, y_val, parameters)\n",
    "print(\"Accuracy of Validation set: {:.8f}\\nCost of Validation set: {:.8f}\".format(accuracy, cost))"
   ]
  },
  {
   "cell_type": "code",
   "execution_count": 37,
   "id": "62948829",
   "metadata": {},
   "outputs": [
    {
     "name": "stdout",
     "output_type": "stream",
     "text": [
      "Iteration    0) \t\t Loss: 0.69314718 \t\t Accuracy: 27.60416667\n",
      "Iteration 1000) \t\t Loss: 6.86008066 \t\t Accuracy: 73.95833333\n",
      "Iteration 2000) \t\t Loss: 0.89441434 \t\t Accuracy: 85.93750000\n",
      "Iteration 3000) \t\t Loss: 2.02146050 \t\t Accuracy: 81.77083333\n",
      "Iteration 4000) \t\t Loss: 0.90211218 \t\t Accuracy: 85.93750000\n",
      "Iteration 5000) \t\t Loss: 0.84048809 \t\t Accuracy: 87.23958333\n",
      "Iteration 6000) \t\t Loss: 0.78929587 \t\t Accuracy: 88.54166667\n",
      "Iteration 7000) \t\t Loss: 0.58343939 \t\t Accuracy: 90.62500000\n",
      "Iteration 8000) \t\t Loss: 0.59127731 \t\t Accuracy: 90.36458333\n",
      "Iteration 9000) \t\t Loss: 0.76522790 \t\t Accuracy: 89.58333333\n",
      "Iteration 9999) \t\t Loss: 0.59122235 \t\t Accuracy: 92.44791667\n",
      "\n",
      "\n",
      "Maximum Accuracy of Training set: 92.70833333\n",
      "Minimum Loss of Trainig set: 0.38833356\n",
      "\n"
     ]
    },
    {
     "data": {
      "image/png": "[encoded data removed]",
      "text/plain": [
       "<Figure size 1080x432 with 2 Axes>"
      ]
     },
     "metadata": {
      "needs_background": "light"
     },
     "output_type": "display_data"
    }
   ],
   "source": [
    "# Initialize with zero\n",
    "layers_dims = [X_train.shape[0], 1]\n",
    "parameters = model(X_train, y_train, layers_dims, initial_value = \"Zero\", print_cost = True)"
   ]
  },
  {
   "cell_type": "code",
   "execution_count": 38,
   "id": "eedf4e78",
   "metadata": {},
   "outputs": [
    {
     "name": "stdout",
     "output_type": "stream",
     "text": [
      "Accuracy of Validation set: 88.54166667\n",
      "Cost of Validation set: 0.67158403\n"
     ]
    }
   ],
   "source": [
    "cost, accuracy = test_model(X_val, y_val, parameters)\n",
    "print(\"Accuracy of Validation set: {:.8f}\\nCost of Validation set: {:.8f}\".format(accuracy, cost))"
   ]
  },
  {
   "cell_type": "markdown",
   "id": "e13de2c9",
   "metadata": {},
   "source": [
    "## *3 Layer Model (One hidden layer)*\n",
    "\n",
    "LINEAR ~> RELU ~> LINEAR ~> SIGMOID"
   ]
  },
  {
   "cell_type": "code",
   "execution_count": 39,
   "id": "72d0cca4",
   "metadata": {},
   "outputs": [
    {
     "name": "stdout",
     "output_type": "stream",
     "text": [
      "Iteration    0) \t\t Loss: 6.89478124 \t\t Accuracy: 52.86458333\n",
      "Iteration 1000) \t\t Loss: 0.16809586 \t\t Accuracy: 92.70833333\n",
      "Iteration 2000) \t\t Loss: 0.18363227 \t\t Accuracy: 90.62500000\n",
      "Iteration 3000) \t\t Loss: 0.08657815 \t\t Accuracy: 96.87500000\n",
      "Iteration 4000) \t\t Loss: 0.10284111 \t\t Accuracy: 96.35416667\n",
      "Iteration 5000) \t\t Loss: 0.06533560 \t\t Accuracy: 97.91666667\n",
      "Iteration 6000) \t\t Loss: 0.05493288 \t\t Accuracy: 97.91666667\n",
      "Iteration 7000) \t\t Loss: 0.05767712 \t\t Accuracy: 97.91666667\n",
      "Iteration 8000) \t\t Loss: 0.05304276 \t\t Accuracy: 97.91666667\n",
      "Iteration 9000) \t\t Loss: 0.05177616 \t\t Accuracy: 98.17708333\n",
      "Iteration 9999) \t\t Loss: 0.04186539 \t\t Accuracy: 98.69791667\n",
      "\n",
      "\n",
      "Maximum Accuracy of Training set: 98.69791667\n",
      "Minimum Loss of Trainig set: 0.04379755\n",
      "\n"
     ]
    },
    {
     "data": {
      "image/png": "[encoded data removed]",
      "text/plain": [
       "<Figure size 1080x432 with 2 Axes>"
      ]
     },
     "metadata": {
      "needs_background": "light"
     },
     "output_type": "display_data"
    }
   ],
   "source": [
    "# Random initilize\n",
    "layers_dims = [X_train.shape[0], 32, 1]\n",
    "parameters = model(X_train, y_train, layers_dims, initial_value = \"Random\", num_iterations = 10000, print_cost = True)"
   ]
  },
  {
   "cell_type": "code",
   "execution_count": 40,
   "id": "34d7ae97",
   "metadata": {},
   "outputs": [
    {
     "name": "stdout",
     "output_type": "stream",
     "text": [
      "Accuracy of Validation set: 90.62500000\n",
      "Cost of Validation set: 0.42943098\n"
     ]
    }
   ],
   "source": [
    "cost, accuracy = test_model(X_val, y_val, parameters)\n",
    "print(\"Accuracy of Validation set: {:.8f}\\nCost of Validation set: {:.8f}\".format(accuracy, cost))"
   ]
  },
  {
   "cell_type": "code",
   "execution_count": 41,
   "id": "3439afba",
   "metadata": {},
   "outputs": [
    {
     "name": "stdout",
     "output_type": "stream",
     "text": [
      "Iteration    0) \t\t Loss: 0.69314718 \t\t Accuracy: 27.60416667\n",
      "Iteration 1000) \t\t Loss: 0.58917585 \t\t Accuracy: 72.39583333\n",
      "Iteration 2000) \t\t Loss: 0.58917585 \t\t Accuracy: 72.39583333\n",
      "Iteration 3000) \t\t Loss: 0.58917585 \t\t Accuracy: 72.39583333\n",
      "Iteration 4000) \t\t Loss: 0.58917585 \t\t Accuracy: 72.39583333\n",
      "Iteration 5000) \t\t Loss: 0.58917585 \t\t Accuracy: 72.39583333\n",
      "Iteration 6000) \t\t Loss: 0.58917585 \t\t Accuracy: 72.39583333\n",
      "Iteration 7000) \t\t Loss: 0.58917585 \t\t Accuracy: 72.39583333\n",
      "Iteration 8000) \t\t Loss: 0.58917585 \t\t Accuracy: 72.39583333\n",
      "Iteration 9000) \t\t Loss: 0.58917585 \t\t Accuracy: 72.39583333\n",
      "Iteration 9999) \t\t Loss: 0.58917585 \t\t Accuracy: 72.39583333\n",
      "\n",
      "\n",
      "Maximum Accuracy of Training set: 72.39583333\n",
      "Minimum Loss of Trainig set: 0.58917585\n",
      "\n"
     ]
    },
    {
     "data": {
      "image/png": "[encoded data removed]",
      "text/plain": [
       "<Figure size 1080x432 with 2 Axes>"
      ]
     },
     "metadata": {
      "needs_background": "light"
     },
     "output_type": "display_data"
    }
   ],
   "source": [
    "# Initialize with zero\n",
    "layers_dims = [X_train.shape[0], 16, 1]\n",
    "parameters = model(X_train, y_train, layers_dims, initial_value = \"Zero\", num_iterations = 10000, print_cost = True)"
   ]
  },
  {
   "cell_type": "code",
   "execution_count": 42,
   "id": "190211de",
   "metadata": {},
   "outputs": [
    {
     "name": "stdout",
     "output_type": "stream",
     "text": [
      "Accuracy of Validation set: 78.12500000\n",
      "Cost of Validation set: 0.53393626\n"
     ]
    }
   ],
   "source": [
    "cost, accuracy = test_model(X_val, y_val, parameters)\n",
    "print(\"Accuracy of Validation set: {:.8f}\\nCost of Validation set: {:.8f}\".format(accuracy, cost))"
   ]
  },
  {
   "cell_type": "markdown",
   "id": "f07a1fe9",
   "metadata": {},
   "source": [
    "## *5 Layer Model (Three hidden layer)*\n",
    "\n",
    "LINEAR ~> RELU ~> LINEAR ~> RELU ~> LINEAR ~> RELU ~> LINEAR ~> SIGMOID"
   ]
  },
  {
   "cell_type": "code",
   "execution_count": 43,
   "id": "dd3e3163",
   "metadata": {},
   "outputs": [
    {
     "name": "stdout",
     "output_type": "stream",
     "text": [
      "Iteration    0) \t\t Loss: 4.10846253 \t\t Accuracy: 71.87500000\n",
      "Iteration 1000) \t\t Loss: 0.24231402 \t\t Accuracy: 89.06250000\n",
      "Iteration 2000) \t\t Loss: 0.21385184 \t\t Accuracy: 90.88541667\n",
      "Iteration 3000) \t\t Loss: 0.18886653 \t\t Accuracy: 91.40625000\n",
      "Iteration 4000) \t\t Loss: 0.17206828 \t\t Accuracy: 91.66666667\n",
      "Iteration 5000) \t\t Loss: 0.23558928 \t\t Accuracy: 91.66666667\n",
      "Iteration 6000) \t\t Loss: 0.10685276 \t\t Accuracy: 96.09375000\n",
      "Iteration 7000) \t\t Loss: 0.09307900 \t\t Accuracy: 97.13541667\n",
      "Iteration 8000) \t\t Loss: 0.19087577 \t\t Accuracy: 93.22916667\n",
      "Iteration 9000) \t\t Loss: 0.18269591 \t\t Accuracy: 91.66666667\n",
      "Iteration 10000) \t\t Loss: 0.05195181 \t\t Accuracy: 98.43750000\n",
      "Iteration 11000) \t\t Loss: 0.09313227 \t\t Accuracy: 97.39583333\n",
      "Iteration 12000) \t\t Loss: 0.05833974 \t\t Accuracy: 97.91666667\n",
      "Iteration 12999) \t\t Loss: 0.03584620 \t\t Accuracy: 99.47916667\n",
      "\n",
      "\n",
      "Maximum Accuracy of Training set: 99.21875000\n",
      "Minimum Loss of Trainig set: 0.03939200\n",
      "\n"
     ]
    },
    {
     "data": {
      "image/png": "[encoded data removed]",
      "text/plain": [
       "<Figure size 1080x432 with 2 Axes>"
      ]
     },
     "metadata": {
      "needs_background": "light"
     },
     "output_type": "display_data"
    }
   ],
   "source": [
    "# Random initilize\n",
    "layers_dims = [X_train.shape[0], 32, 8, 4, 1]\n",
    "parameters = model(X_train, y_train, layers_dims, learning_rate = 0.01, initial_value = \"Random\", num_iterations = 13000, print_cost = True)"
   ]
  },
  {
   "cell_type": "code",
   "execution_count": 44,
   "id": "6d47972f",
   "metadata": {},
   "outputs": [
    {
     "name": "stdout",
     "output_type": "stream",
     "text": [
      "Accuracy of Validation set: 92.70833333\n",
      "Cost of Validation set: 0.29645142\n"
     ]
    }
   ],
   "source": [
    "cost, accuracy = test_model(X_val, y_val, parameters)\n",
    "print(\"Accuracy of Validation set: {:.8f}\\nCost of Validation set: {:.8f}\".format(accuracy, cost))"
   ]
  },
  {
   "cell_type": "code",
   "execution_count": 45,
   "id": "05ae2e40",
   "metadata": {},
   "outputs": [
    {
     "name": "stdout",
     "output_type": "stream",
     "text": [
      "Iteration    0) \t\t Loss: 0.69314718 \t\t Accuracy: 27.60416667\n",
      "Iteration 1000) \t\t Loss: 0.59044768 \t\t Accuracy: 72.39583333\n",
      "Iteration 2000) \t\t Loss: 0.58919784 \t\t Accuracy: 72.39583333\n",
      "Iteration 3000) \t\t Loss: 0.58917625 \t\t Accuracy: 72.39583333\n",
      "Iteration 4000) \t\t Loss: 0.58917586 \t\t Accuracy: 72.39583333\n",
      "Iteration 5000) \t\t Loss: 0.58917585 \t\t Accuracy: 72.39583333\n",
      "Iteration 6000) \t\t Loss: 0.58917585 \t\t Accuracy: 72.39583333\n",
      "Iteration 7000) \t\t Loss: 0.58917585 \t\t Accuracy: 72.39583333\n",
      "Iteration 8000) \t\t Loss: 0.58917585 \t\t Accuracy: 72.39583333\n",
      "Iteration 9000) \t\t Loss: 0.58917585 \t\t Accuracy: 72.39583333\n",
      "Iteration 10000) \t\t Loss: 0.58917585 \t\t Accuracy: 72.39583333\n",
      "Iteration 11000) \t\t Loss: 0.58917585 \t\t Accuracy: 72.39583333\n",
      "Iteration 12000) \t\t Loss: 0.58917585 \t\t Accuracy: 72.39583333\n",
      "Iteration 13000) \t\t Loss: 0.58917585 \t\t Accuracy: 72.39583333\n",
      "Iteration 14000) \t\t Loss: 0.58917585 \t\t Accuracy: 72.39583333\n",
      "Iteration 14999) \t\t Loss: 0.58917585 \t\t Accuracy: 72.39583333\n",
      "\n",
      "\n",
      "Maximum Accuracy of Training set: 72.39583333\n",
      "Minimum Loss of Trainig set: 0.58917585\n",
      "\n"
     ]
    },
    {
     "data": {
      "image/png": "[encoded data removed]",
      "text/plain": [
       "<Figure size 1080x432 with 2 Axes>"
      ]
     },
     "metadata": {
      "needs_background": "light"
     },
     "output_type": "display_data"
    }
   ],
   "source": [
    "# Initialize with zero\n",
    "layers_dims = [X_train.shape[0], 32, 8, 4, 1]\n",
    "parameters = model(X_train, y_train, layers_dims, learning_rate = 0.01, initial_value = \"Zero\", num_iterations = 15000, print_cost = True)"
   ]
  },
  {
   "cell_type": "code",
   "execution_count": 46,
   "id": "801931a0",
   "metadata": {},
   "outputs": [
    {
     "name": "stdout",
     "output_type": "stream",
     "text": [
      "Accuracy of Validation set: 78.12500000\n",
      "Cost of Validation set: 0.53393626\n"
     ]
    }
   ],
   "source": [
    "cost, accuracy = test_model(X_val, y_val, parameters)\n",
    "print(\"Accuracy of Validation set: {:.8f}\\nCost of Validation set: {:.8f}\".format(accuracy, cost))"
   ]
  },
  {
   "cell_type": "code",
   "execution_count": null,
   "id": "62e63887",
   "metadata": {},
   "outputs": [],
   "source": []
  }
 ],
 "metadata": {
  "kernelspec": {
   "display_name": "Python 3 (ipykernel)",
   "language": "python",
   "name": "python3"
  },
  "language_info": {
   "codemirror_mode": {
    "name": "ipython",
    "version": 3
   },
   "file_extension": ".py",
   "mimetype": "text/x-python",
   "name": "python",
   "nbconvert_exporter": "python",
   "pygments_lexer": "ipython3",
   "version": "3.9.12"
  }
 },
 "nbformat": 4,
 "nbformat_minor": 5
}
